{
 "cells": [
  {
   "cell_type": "code",
   "execution_count": 1,
   "id": "b82891e5",
   "metadata": {},
   "outputs": [
    {
     "name": "stdout",
     "output_type": "stream",
     "text": [
      "Requirement already satisfied: pandas in c:\\users\\user\\anaconda3\\lib\\site-packages (1.4.2)\n",
      "Requirement already satisfied: scikit-learn in c:\\users\\user\\anaconda3\\lib\\site-packages (1.0.2)\n",
      "Requirement already satisfied: numpy>=1.18.5 in c:\\users\\user\\anaconda3\\lib\\site-packages (from pandas) (1.21.5)\n",
      "Requirement already satisfied: pytz>=2020.1 in c:\\users\\user\\anaconda3\\lib\\site-packages (from pandas) (2021.3)\n",
      "Requirement already satisfied: python-dateutil>=2.8.1 in c:\\users\\user\\anaconda3\\lib\\site-packages (from pandas) (2.8.2)\n",
      "Requirement already satisfied: scipy>=1.1.0 in c:\\users\\user\\anaconda3\\lib\\site-packages (from scikit-learn) (1.7.3)\n",
      "Requirement already satisfied: threadpoolctl>=2.0.0 in c:\\users\\user\\anaconda3\\lib\\site-packages (from scikit-learn) (2.2.0)\n",
      "Requirement already satisfied: joblib>=0.11 in c:\\users\\user\\anaconda3\\lib\\site-packages (from scikit-learn) (1.1.0)\n",
      "Requirement already satisfied: six>=1.5 in c:\\users\\user\\anaconda3\\lib\\site-packages (from python-dateutil>=2.8.1->pandas) (1.16.0)\n"
     ]
    }
   ],
   "source": [
    "!pip install pandas scikit-learn"
   ]
  },
  {
   "cell_type": "code",
   "execution_count": 3,
   "id": "d101c676",
   "metadata": {},
   "outputs": [
    {
     "name": "stdout",
     "output_type": "stream",
     "text": [
      "Actual Class:    0 0 1 1 1 1 0 0 1 1 0 0 0 0 0 0 0 0 0 0 0 0 0 1 1 0 0 0 0 0 0 0 1 0 0 0 0 0 0 0 1 0 1 1 0 0 0 1 0 1 0 1 0 1 0 1 0 0 1 0 0 1 0 0 0 0 1 1 0 1 0 0 0 0 1 1 0 1 0 0 0 1 1 0 0 0 0 0 0 0 0 0 0 1 0 0 0 0 1 0 0 1 0 0 0 1 0 0 0 1 1 1 0 0 0 0 0 0 1 0 0 0 1 0 1 1 1 1 0 1 1 0 0 0 0 0 0 0 1 1 0 1 0 0 1 0 1 0 0 0 0 0 1 0 1 0 1 0 1 1 0 0 0 0 1 1 0 0 0 1 0 1 1 0 0 1 0 0 1 1 0 0 1 0 0 1 0 0 0 0 0 0 0 1 1 1 0 0 0 0 0 0 1 1 0 0 1 0 0 1 0 1 1 1 0 0 1 1 1 0 1 0 1 0 1 0 0 0 0 1 0\n",
      "Predicted Class: 0 0 1 1 0 1 0 0 1 1 0 1 1 0 0 0 0 0 0 0 0 1 0 0 1 0 0 0 0 0 0 0 0 0 0 0 0 1 0 0 0 0 1 0 0 1 0 1 0 1 0 1 0 1 0 0 1 1 1 0 0 1 0 0 0 0 1 1 0 1 0 1 0 0 1 1 0 1 0 0 0 1 0 0 1 1 0 0 0 0 0 0 0 0 0 0 0 0 1 0 0 0 0 0 0 0 0 0 1 0 1 1 0 0 0 0 0 0 1 0 1 1 0 1 1 1 1 0 0 0 0 0 1 1 0 1 1 0 1 1 0 0 0 0 1 0 0 0 0 0 0 0 1 0 1 0 1 0 1 0 0 0 0 0 0 1 1 0 0 0 0 1 0 1 0 1 0 0 1 1 0 0 0 0 0 0 0 0 0 0 0 0 0 0 0 1 0 0 0 0 0 0 0 1 0 0 1 1 1 1 0 1 0 0 0 0 1 1 1 1 0 0 1 0 1 0 1 0 0 0 0\n",
      "Confusion Matrix\n",
      "[[128  24]\n",
      " [ 30  49]]\n",
      "********Classifiaction Measures*********\n",
      "Accuracy: 0.7662337662337663\n",
      "Recall: 0.620253164556962\n",
      "Precision: 0.6712328767123288\n",
      "F1-Score: 0.6447368421052632\n"
     ]
    }
   ],
   "source": [
    "import pandas as pd\n",
    "from sklearn import metrics\n",
    "from sklearn.naive_bayes import GaussianNB\n",
    "\n",
    "dataset = pd.read_csv('Diabetes.csv')\n",
    "\n",
    "\n",
    "split = int(len(dataset)*0.7)\n",
    "train, test = dataset[:split], dataset[split:]\n",
    "\n",
    "p = train['Pragnency'].values\n",
    "g = train['Glucose'].values\n",
    "bp= train['Blod Pressure'].values\n",
    "st= train['Skin Thikness'].values\n",
    "ins= train['Insulin'].values\n",
    "bmi= train['BMI'].values\n",
    "dfp= train['DFP'].values\n",
    "a= train['Age'].values\n",
    "d= train['Diabetes'].values\n",
    "\n",
    "trainfeatures=zip(p,g,bp,st,ins,bmi,dfp,a)\n",
    "traininput=list(trainfeatures)\n",
    "#print(traininput)\n",
    "\n",
    "model = GaussianNB()\n",
    "model.fit(traininput,d)\n",
    "\n",
    "p = test['Pragnency'].values\n",
    "g = test['Glucose'].values\n",
    "bp= test['Blod Pressure'].values\n",
    "st= test['Skin Thikness'].values\n",
    "ins= test['Insulin'].values\n",
    "bmi= test['BMI'].values\n",
    "dpf= test['DFP'].values\n",
    "a= test['Age'].values\n",
    "d= test['Diabetes'].values\n",
    "\n",
    "testfeatures=zip(p,g,bp,st,ins,bmi,dpf,a)\n",
    "testinput=list(testfeatures)\n",
    "\n",
    "predicted= model.predict(testinput) \n",
    "print(\"Actual Class:   \", *d)\n",
    "print(\"Predicted Class:\", *predicted)\n",
    "\n",
    "print(\"Confusion Matrix\")\n",
    "print(metrics.confusion_matrix(d, predicted))\n",
    "print(\"********Classifiaction Measures*********\")\n",
    "print(\"Accuracy:\",metrics.accuracy_score(d,predicted))\n",
    "print(\"Recall:\",metrics.recall_score(d,predicted))\n",
    "print(\"Precision:\",metrics.precision_score(d,predicted))\n",
    "print(\"F1-Score:\",metrics.f1_score(d,predicted))\n"
   ]
  },
  {
   "cell_type": "code",
   "execution_count": null,
   "id": "66d2e150",
   "metadata": {},
   "outputs": [],
   "source": []
  }
 ],
 "metadata": {
  "kernelspec": {
   "display_name": "Python 3 (ipykernel)",
   "language": "python",
   "name": "python3"
  },
  "language_info": {
   "codemirror_mode": {
    "name": "ipython",
    "version": 3
   },
   "file_extension": ".py",
   "mimetype": "text/x-python",
   "name": "python",
   "nbconvert_exporter": "python",
   "pygments_lexer": "ipython3",
   "version": "3.9.12"
  }
 },
 "nbformat": 4,
 "nbformat_minor": 5
}
