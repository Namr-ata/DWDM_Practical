{
 "cells": [
  {
   "cell_type": "code",
   "execution_count": 1,
   "id": "ca890fbd",
   "metadata": {},
   "outputs": [
    {
     "name": "stdout",
     "output_type": "stream",
     "text": [
      "MInMax Normalization:\n",
      "\n",
      "Original Data\n",
      "   Salary  Age\n",
      "0   45000   42\n",
      "1   32000   26\n",
      "2   58000   48\n",
      "3   37000   32\n",
      "\n",
      "Scaled Data\n",
      "     Salary       Age\n",
      "0  0.500000  0.727273\n",
      "1  0.000000  0.000000\n",
      "2  1.000000  1.000000\n",
      "3  0.192308  0.272727\n"
     ]
    }
   ],
   "source": [
    "import pandas as pd\n",
    "print(\"MInMax Normalization:\\n\")\n",
    "class MinMaxNorm:\n",
    "  def scale(self,d):\n",
    "    for i in d.columns:\n",
    "      min=d[i].min()\n",
    "      max=d[i].max()\n",
    "      d[i]=(d[i]-min)/(max-min)\n",
    "    return d\n",
    "data=pd.DataFrame([[45000,42],[32000,26],[58000,48],[37000,32]],columns=['Salary','Age'])\n",
    "print(\"Original Data\")\n",
    "print(data)\n",
    "s=MinMaxNorm()\n",
    "print(\"\\nScaled Data\")\n",
    "df=s.scale(data)\n",
    "print(df)\n"
   ]
  },
  {
   "cell_type": "code",
   "execution_count": null,
   "id": "8ef3d92d",
   "metadata": {},
   "outputs": [],
   "source": []
  }
 ],
 "metadata": {
  "kernelspec": {
   "display_name": "Python 3 (ipykernel)",
   "language": "python",
   "name": "python3"
  },
  "language_info": {
   "codemirror_mode": {
    "name": "ipython",
    "version": 3
   },
   "file_extension": ".py",
   "mimetype": "text/x-python",
   "name": "python",
   "nbconvert_exporter": "python",
   "pygments_lexer": "ipython3",
   "version": "3.9.12"
  }
 },
 "nbformat": 4,
 "nbformat_minor": 5
}
