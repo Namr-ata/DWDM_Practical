{
 "cells": [
  {
   "cell_type": "code",
   "execution_count": 1,
   "id": "46d4a940",
   "metadata": {},
   "outputs": [],
   "source": [
    "import pandas as pd"
   ]
  },
  {
   "cell_type": "code",
   "execution_count": 3,
   "id": "0deadc6b",
   "metadata": {},
   "outputs": [
    {
     "name": "stdout",
     "output_type": "stream",
     "text": [
      "Original Data\n",
      "                         participant_id             name         dob  \\\n",
      "0  1de9ea66-70d3-4a1f-8735-df5ef7697fb9    Thomas Crosby  1996-07-16   \n",
      "1  9da618fd-7bf7-4a4d-9f8f-5ffba5f80a0a   Brandon Reeves  1957-11-30   \n",
      "2  d30aad4b-4503-4e22-8bc4-621b94398520   Maria Castillo  1981-02-03   \n",
      "3  790b2f7c-b5c3-4ec1-a4ce-01e15560eaba      Carol Jones  1990-09-17   \n",
      "4  6a8f6926-0a22-4ba8-b442-a1244e2e3761  Robert Thompson  1967-06-09   \n",
      "\n",
      "  is_student  target   Q1   Q2   Q3   Q4  \n",
      "0      False  809.97  1.0  5.0  0.0  0.0  \n",
      "1      False  866.41  1.0  8.0  1.0  1.0  \n",
      "2      False  776.92  3.0  8.0  0.0  1.0  \n",
      "3       True  929.72  3.0  0.0  1.0  2.0  \n",
      "4       True  923.66  NaN  0.0  6.0  NaN  \n"
     ]
    }
   ],
   "source": [
    "data=pd.read_csv('student-data.csv')\n",
    "print(\"Original Data\")\n",
    "print(data[0:5])\n"
   ]
  },
  {
   "cell_type": "code",
   "execution_count": 6,
   "id": "fd69b88b",
   "metadata": {},
   "outputs": [
    {
     "name": "stdout",
     "output_type": "stream",
     "text": [
      "                name         dob  age is_student  target\n",
      "0      Thomas Crosby  1996-07-16   27      False  809.97\n",
      "1     Brandon Reeves  1957-11-30   66      False  866.41\n",
      "2     Maria Castillo  1981-02-03   43      False  776.92\n",
      "3        Carol Jones  1990-09-17   33       True  929.72\n",
      "4    Robert Thompson  1967-06-09   56       True  923.66\n",
      "..               ...         ...  ...        ...     ...\n",
      "99      Barbara Ford  1975-01-23   49      False  937.97\n",
      "100   Maria Castillo  1981-02-03   43      False  776.92\n",
      "101      Edward Hood  1984-01-10   40      False  975.77\n",
      "102    Jeffrey Smith  1996-09-29   27      False  996.08\n",
      "103   Hayley Hoffman  1958-06-23   65      False  825.04\n",
      "\n",
      "[104 rows x 5 columns]\n"
     ]
    }
   ],
   "source": [
    "import pandas as pd \n",
    "import numpy as np\n",
    "import matplotlib.pyplot as plt\n",
    "#New Variable\n",
    "from dateutil.relativedelta import *\n",
    "from datetime import *\n",
    "\n",
    "df = pd.read_csv(\"student-data.csv\")  \n",
    "def get_age(dob):\n",
    "    now = datetime.now()\n",
    "    age = relativedelta(now, dob).years\n",
    "    return age\n",
    "  \n",
    "df['age'] = pd.to_datetime(df['dob']). apply(get_age)\n",
    "\n",
    "data = df.filter(['name','dob','age','is_student','target'])\n",
    "\n",
    "print(data)\n",
    "\n",
    "\n"
   ]
  },
  {
   "cell_type": "code",
   "execution_count": null,
   "id": "06951b92",
   "metadata": {},
   "outputs": [],
   "source": [
    "\n"
   ]
  }
 ],
 "metadata": {
  "kernelspec": {
   "display_name": "Python 3 (ipykernel)",
   "language": "python",
   "name": "python3"
  },
  "language_info": {
   "codemirror_mode": {
    "name": "ipython",
    "version": 3
   },
   "file_extension": ".py",
   "mimetype": "text/x-python",
   "name": "python",
   "nbconvert_exporter": "python",
   "pygments_lexer": "ipython3",
   "version": "3.9.12"
  }
 },
 "nbformat": 4,
 "nbformat_minor": 5
}
