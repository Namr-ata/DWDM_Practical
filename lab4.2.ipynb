{
 "cells": [
  {
   "cell_type": "code",
   "execution_count": 1,
   "id": "3ca88694",
   "metadata": {},
   "outputs": [
    {
     "ename": "ModuleNotFoundError",
     "evalue": "No module named 'pyfpgrowth'",
     "output_type": "error",
     "traceback": [
      "\u001b[1;31m---------------------------------------------------------------------------\u001b[0m",
      "\u001b[1;31mModuleNotFoundError\u001b[0m                       Traceback (most recent call last)",
      "Input \u001b[1;32mIn [1]\u001b[0m, in \u001b[0;36m<cell line: 1>\u001b[1;34m()\u001b[0m\n\u001b[1;32m----> 1\u001b[0m \u001b[38;5;28;01mimport\u001b[39;00m \u001b[38;5;21;01mpyfpgrowth\u001b[39;00m\n\u001b[0;32m      2\u001b[0m \u001b[38;5;66;03m# Creating Sample Transactions\u001b[39;00m\n\u001b[0;32m      3\u001b[0m transactions \u001b[38;5;241m=\u001b[39m [\n\u001b[0;32m      4\u001b[0m      [\u001b[38;5;124m'\u001b[39m\u001b[38;5;124mMilk\u001b[39m\u001b[38;5;124m'\u001b[39m, \u001b[38;5;124m'\u001b[39m\u001b[38;5;124mBread\u001b[39m\u001b[38;5;124m'\u001b[39m, \u001b[38;5;124m'\u001b[39m\u001b[38;5;124mSaffron\u001b[39m\u001b[38;5;124m'\u001b[39m],\n\u001b[0;32m      5\u001b[0m      [\u001b[38;5;124m'\u001b[39m\u001b[38;5;124mMilk\u001b[39m\u001b[38;5;124m'\u001b[39m, \u001b[38;5;124m'\u001b[39m\u001b[38;5;124mSaffron\u001b[39m\u001b[38;5;124m'\u001b[39m],\n\u001b[0;32m      6\u001b[0m      [\u001b[38;5;124m'\u001b[39m\u001b[38;5;124mBread\u001b[39m\u001b[38;5;124m'\u001b[39m, \u001b[38;5;124m'\u001b[39m\u001b[38;5;124mSaffron\u001b[39m\u001b[38;5;124m'\u001b[39m,\u001b[38;5;124m'\u001b[39m\u001b[38;5;124mWafer\u001b[39m\u001b[38;5;124m'\u001b[39m],\n\u001b[0;32m      7\u001b[0m      [\u001b[38;5;124m'\u001b[39m\u001b[38;5;124mBread\u001b[39m\u001b[38;5;124m'\u001b[39m,\u001b[38;5;124m'\u001b[39m\u001b[38;5;124mWafer\u001b[39m\u001b[38;5;124m'\u001b[39m],\n\u001b[0;32m      8\u001b[0m  ]\n",
      "\u001b[1;31mModuleNotFoundError\u001b[0m: No module named 'pyfpgrowth'"
     ]
    }
   ],
   "source": [
    "import pyfpgrowth\n",
    "# Creating Sample Transactions\n",
    "transactions = [\n",
    "     ['Milk', 'Bread', 'Saffron'],\n",
    "     ['Milk', 'Saffron'],\n",
    "     ['Bread', 'Saffron','Wafer'],\n",
    "     ['Bread','Wafer'],\n",
    " ]\n",
    " \n",
    "#Finding the frequent patterns with min support threshold=0.5\n",
    "FrequentPatterns=pyfpgrowth.find_frequent_patterns(transactions=transactions,support_threshold=0.5)\n",
    "print(FrequentPatterns)\n",
    "\n",
    "# Generating rules with min confidence threshold=0.5\n",
    "print(\"Generating rules with min confidence threshold=0.5\")\n",
    "Rules=pyfpgrowth.generate_association_rules(patterns=FrequentPatterns,confidence_threshold=0.5)\n",
    "print(Rules)\n"
   ]
  },
  {
   "cell_type": "code",
   "execution_count": 2,
   "id": "01d16368",
   "metadata": {},
   "outputs": [
    {
     "name": "stdout",
     "output_type": "stream",
     "text": [
      "Collecting pyfpgrowth\n",
      "  Downloading pyfpgrowth-1.0.tar.gz (1.6 MB)\n",
      "Building wheels for collected packages: pyfpgrowth\n",
      "  Building wheel for pyfpgrowth (setup.py): started\n",
      "  Building wheel for pyfpgrowth (setup.py): finished with status 'done'\n",
      "  Created wheel for pyfpgrowth: filename=pyfpgrowth-1.0-py2.py3-none-any.whl size=5504 sha256=92960b92062d703f2804d89c44ca161509a1b9519bb59d54452556ab5ad4360f\n",
      "  Stored in directory: c:\\users\\user\\appdata\\local\\pip\\cache\\wheels\\1d\\15\\f3\\26c63bd6040ea8f62d59dba0b4fe4dffe551a0f93879734a91\n",
      "Successfully built pyfpgrowth\n",
      "Installing collected packages: pyfpgrowth\n",
      "Successfully installed pyfpgrowth-1.0\n"
     ]
    }
   ],
   "source": [
    "!pip install pyfpgrowth\n"
   ]
  },
  {
   "cell_type": "code",
   "execution_count": 3,
   "id": "1c6a9728",
   "metadata": {},
   "outputs": [
    {
     "name": "stdout",
     "output_type": "stream",
     "text": [
      "{('Milk',): 2, ('Milk', 'Saffron'): 2, ('Bread', 'Milk'): 1, ('Bread', 'Milk', 'Saffron'): 1, ('Wafer',): 2, ('Saffron', 'Wafer'): 1, ('Bread', 'Wafer'): 2, ('Bread', 'Saffron', 'Wafer'): 1, ('Bread',): 3, ('Saffron',): 3, ('Bread', 'Saffron'): 2}\n",
      "Generating rules with min confidence threshold=0.5\n",
      "{('Milk',): (('Bread', 'Saffron'), 0.5), ('Saffron',): (('Bread',), 0.6666666666666666), ('Bread', 'Milk'): (('Saffron',), 1.0), ('Bread', 'Saffron'): (('Wafer',), 0.5), ('Milk', 'Saffron'): (('Bread',), 0.5), ('Wafer',): (('Bread', 'Saffron'), 0.5), ('Bread',): (('Saffron',), 0.6666666666666666), ('Bread', 'Wafer'): (('Saffron',), 0.5), ('Saffron', 'Wafer'): (('Bread',), 1.0)}\n"
     ]
    }
   ],
   "source": [
    "import pyfpgrowth\n",
    "# Creating Sample Transactions\n",
    "transactions = [\n",
    "     ['Milk', 'Bread', 'Saffron'],\n",
    "     ['Milk', 'Saffron'],\n",
    "     ['Bread', 'Saffron','Wafer'],\n",
    "     ['Bread','Wafer'],\n",
    " ]\n",
    " \n",
    "#Finding the frequent patterns with min support threshold=0.5\n",
    "FrequentPatterns=pyfpgrowth.find_frequent_patterns(transactions=transactions,support_threshold=0.5)\n",
    "print(FrequentPatterns)\n",
    "\n",
    "# Generating rules with min confidence threshold=0.5\n",
    "print(\"Generating rules with min confidence threshold=0.5\")\n",
    "Rules=pyfpgrowth.generate_association_rules(patterns=FrequentPatterns,confidence_threshold=0.5)\n",
    "print(Rules)\n"
   ]
  },
  {
   "cell_type": "code",
   "execution_count": null,
   "id": "0cdbd7b5",
   "metadata": {},
   "outputs": [],
   "source": []
  }
 ],
 "metadata": {
  "kernelspec": {
   "display_name": "Python 3 (ipykernel)",
   "language": "python",
   "name": "python3"
  },
  "language_info": {
   "codemirror_mode": {
    "name": "ipython",
    "version": 3
   },
   "file_extension": ".py",
   "mimetype": "text/x-python",
   "name": "python",
   "nbconvert_exporter": "python",
   "pygments_lexer": "ipython3",
   "version": "3.9.12"
  }
 },
 "nbformat": 4,
 "nbformat_minor": 5
}
